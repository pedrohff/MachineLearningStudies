{
 "cells": [
  {
   "cell_type": "code",
   "execution_count": 12,
   "metadata": {},
   "outputs": [],
   "source": [
    "class Aluno(Pessoa):\n",
    "    \n",
    "    def __init__(self, matricula):\n",
    "      self.matricula = matricula\n",
    "    \n",
    "    def tempovida(self):\n",
    "        if self.idade >= 40:\n",
    "            print(\"Experiência\")\n",
    "        else:\n",
    "            print(\"Novinho\")"
   ]
  }
 ],
 "metadata": {
  "kernelspec": {
   "display_name": "Python 3",
   "language": "python",
   "name": "python3"
  },
  "language_info": {
   "codemirror_mode": {
    "name": "ipython",
    "version": 3
   },
   "file_extension": ".py",
   "mimetype": "text/x-python",
   "name": "python",
   "nbconvert_exporter": "python",
   "pygments_lexer": "ipython3",
   "version": "3.6.2"
  }
 },
 "nbformat": 4,
 "nbformat_minor": 2
}
